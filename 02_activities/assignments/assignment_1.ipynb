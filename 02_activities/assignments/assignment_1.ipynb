{
 "cells": [
  {
   "cell_type": "markdown",
   "metadata": {},
   "source": [
    "# Working with parquet files\n",
    "\n",
    "## Objective\n",
    "\n",
    "+ In this assignment, we will use the data downloaded with the module `data_manager` to create features.\n",
    "\n",
    "(11 pts total)\n",
    "\n",
    "## Prerequisites\n",
    "\n",
    "+ This notebook assumes that price data is available to you in the environment variable `PRICE_DATA`. If you have not done so, then execute the notebook `production_2_data_engineering.ipynb` to create this data set.\n"
   ]
  },
  {
   "cell_type": "markdown",
   "metadata": {},
   "source": [
    "+ Load the environment variables using dotenv. (1 pt)"
   ]
  },
  {
   "cell_type": "code",
   "execution_count": 1,
   "metadata": {},
   "outputs": [],
   "source": [
    "# Write your code below.\n",
    "%load_ext dotenv\n",
    "%dotenv\n"
   ]
  },
  {
   "cell_type": "code",
   "execution_count": 2,
   "metadata": {},
   "outputs": [],
   "source": [
    "import dask\n",
    "dask.config.set({'dataframe.query-planning': True})\n",
    "import dask.dataframe as dd"
   ]
  },
  {
   "cell_type": "markdown",
   "metadata": {},
   "source": [
    "+ Load the environment variable `PRICE_DATA`.\n",
    "+ Use [glob](https://docs.python.org/3/library/glob.html) to find the path of all parquet files in the directory `PRICE_DATA`.\n",
    "\n",
    "(1pt)"
   ]
  },
  {
   "cell_type": "code",
   "execution_count": 3,
   "metadata": {},
   "outputs": [
    {
     "data": {
      "text/html": [
       "<div>\n",
       "<style scoped>\n",
       "    .dataframe tbody tr th:only-of-type {\n",
       "        vertical-align: middle;\n",
       "    }\n",
       "\n",
       "    .dataframe tbody tr th {\n",
       "        vertical-align: top;\n",
       "    }\n",
       "\n",
       "    .dataframe thead th {\n",
       "        text-align: right;\n",
       "    }\n",
       "</style>\n",
       "<table border=\"1\" class=\"dataframe\">\n",
       "  <thead>\n",
       "    <tr style=\"text-align: right;\">\n",
       "      <th></th>\n",
       "      <th>ticker</th>\n",
       "      <th>Date</th>\n",
       "      <th>Open</th>\n",
       "      <th>High</th>\n",
       "      <th>Low</th>\n",
       "      <th>Close</th>\n",
       "      <th>Adj Close</th>\n",
       "      <th>Volume</th>\n",
       "      <th>sector</th>\n",
       "      <th>subsector</th>\n",
       "      <th>year</th>\n",
       "    </tr>\n",
       "  </thead>\n",
       "  <tbody>\n",
       "    <tr>\n",
       "      <th>0</th>\n",
       "      <td>A</td>\n",
       "      <td>2000-01-03</td>\n",
       "      <td>56.330471</td>\n",
       "      <td>56.464592</td>\n",
       "      <td>48.193848</td>\n",
       "      <td>51.502148</td>\n",
       "      <td>43.613007</td>\n",
       "      <td>4674353</td>\n",
       "      <td>Health Care</td>\n",
       "      <td>Life Sciences Tools &amp; Services</td>\n",
       "      <td>2000</td>\n",
       "    </tr>\n",
       "    <tr>\n",
       "      <th>1</th>\n",
       "      <td>A</td>\n",
       "      <td>2000-01-04</td>\n",
       "      <td>48.730328</td>\n",
       "      <td>49.266811</td>\n",
       "      <td>46.316166</td>\n",
       "      <td>47.567955</td>\n",
       "      <td>40.281460</td>\n",
       "      <td>4765083</td>\n",
       "      <td>Health Care</td>\n",
       "      <td>Life Sciences Tools &amp; Services</td>\n",
       "      <td>2000</td>\n",
       "    </tr>\n",
       "    <tr>\n",
       "      <th>2</th>\n",
       "      <td>A</td>\n",
       "      <td>2000-01-05</td>\n",
       "      <td>47.389126</td>\n",
       "      <td>47.567955</td>\n",
       "      <td>43.141991</td>\n",
       "      <td>44.617310</td>\n",
       "      <td>37.782795</td>\n",
       "      <td>5758642</td>\n",
       "      <td>Health Care</td>\n",
       "      <td>Life Sciences Tools &amp; Services</td>\n",
       "      <td>2000</td>\n",
       "    </tr>\n",
       "    <tr>\n",
       "      <th>3</th>\n",
       "      <td>A</td>\n",
       "      <td>2000-01-06</td>\n",
       "      <td>44.080830</td>\n",
       "      <td>44.349072</td>\n",
       "      <td>41.577251</td>\n",
       "      <td>42.918453</td>\n",
       "      <td>36.344170</td>\n",
       "      <td>2534434</td>\n",
       "      <td>Health Care</td>\n",
       "      <td>Life Sciences Tools &amp; Services</td>\n",
       "      <td>2000</td>\n",
       "    </tr>\n",
       "    <tr>\n",
       "      <th>4</th>\n",
       "      <td>A</td>\n",
       "      <td>2000-01-07</td>\n",
       "      <td>42.247852</td>\n",
       "      <td>47.165592</td>\n",
       "      <td>42.203148</td>\n",
       "      <td>46.494991</td>\n",
       "      <td>39.372868</td>\n",
       "      <td>2819626</td>\n",
       "      <td>Health Care</td>\n",
       "      <td>Life Sciences Tools &amp; Services</td>\n",
       "      <td>2000</td>\n",
       "    </tr>\n",
       "    <tr>\n",
       "      <th>...</th>\n",
       "      <td>...</td>\n",
       "      <td>...</td>\n",
       "      <td>...</td>\n",
       "      <td>...</td>\n",
       "      <td>...</td>\n",
       "      <td>...</td>\n",
       "      <td>...</td>\n",
       "      <td>...</td>\n",
       "      <td>...</td>\n",
       "      <td>...</td>\n",
       "      <td>...</td>\n",
       "    </tr>\n",
       "    <tr>\n",
       "      <th>2745830</th>\n",
       "      <td>ZTS</td>\n",
       "      <td>2024-06-21</td>\n",
       "      <td>169.380005</td>\n",
       "      <td>171.789993</td>\n",
       "      <td>169.350006</td>\n",
       "      <td>171.089996</td>\n",
       "      <td>171.089996</td>\n",
       "      <td>4899700</td>\n",
       "      <td>Health Care</td>\n",
       "      <td>Pharmaceuticals</td>\n",
       "      <td>2024</td>\n",
       "    </tr>\n",
       "    <tr>\n",
       "      <th>2745831</th>\n",
       "      <td>ZTS</td>\n",
       "      <td>2024-06-24</td>\n",
       "      <td>171.710007</td>\n",
       "      <td>174.289993</td>\n",
       "      <td>170.300003</td>\n",
       "      <td>171.839996</td>\n",
       "      <td>171.839996</td>\n",
       "      <td>1885900</td>\n",
       "      <td>Health Care</td>\n",
       "      <td>Pharmaceuticals</td>\n",
       "      <td>2024</td>\n",
       "    </tr>\n",
       "    <tr>\n",
       "      <th>2745832</th>\n",
       "      <td>ZTS</td>\n",
       "      <td>2024-06-25</td>\n",
       "      <td>171.789993</td>\n",
       "      <td>172.419998</td>\n",
       "      <td>167.720001</td>\n",
       "      <td>167.979996</td>\n",
       "      <td>167.979996</td>\n",
       "      <td>2293400</td>\n",
       "      <td>Health Care</td>\n",
       "      <td>Pharmaceuticals</td>\n",
       "      <td>2024</td>\n",
       "    </tr>\n",
       "    <tr>\n",
       "      <th>2745833</th>\n",
       "      <td>ZTS</td>\n",
       "      <td>2024-06-26</td>\n",
       "      <td>167.210007</td>\n",
       "      <td>171.509995</td>\n",
       "      <td>166.449997</td>\n",
       "      <td>170.899994</td>\n",
       "      <td>170.899994</td>\n",
       "      <td>2053800</td>\n",
       "      <td>Health Care</td>\n",
       "      <td>Pharmaceuticals</td>\n",
       "      <td>2024</td>\n",
       "    </tr>\n",
       "    <tr>\n",
       "      <th>2745834</th>\n",
       "      <td>ZTS</td>\n",
       "      <td>2024-06-27</td>\n",
       "      <td>174.490005</td>\n",
       "      <td>181.660004</td>\n",
       "      <td>174.259995</td>\n",
       "      <td>176.460007</td>\n",
       "      <td>176.460007</td>\n",
       "      <td>4164700</td>\n",
       "      <td>Health Care</td>\n",
       "      <td>Pharmaceuticals</td>\n",
       "      <td>2024</td>\n",
       "    </tr>\n",
       "  </tbody>\n",
       "</table>\n",
       "<p>2745835 rows × 11 columns</p>\n",
       "</div>"
      ],
      "text/plain": [
       "        ticker       Date        Open        High         Low       Close  \\\n",
       "0            A 2000-01-03   56.330471   56.464592   48.193848   51.502148   \n",
       "1            A 2000-01-04   48.730328   49.266811   46.316166   47.567955   \n",
       "2            A 2000-01-05   47.389126   47.567955   43.141991   44.617310   \n",
       "3            A 2000-01-06   44.080830   44.349072   41.577251   42.918453   \n",
       "4            A 2000-01-07   42.247852   47.165592   42.203148   46.494991   \n",
       "...        ...        ...         ...         ...         ...         ...   \n",
       "2745830    ZTS 2024-06-21  169.380005  171.789993  169.350006  171.089996   \n",
       "2745831    ZTS 2024-06-24  171.710007  174.289993  170.300003  171.839996   \n",
       "2745832    ZTS 2024-06-25  171.789993  172.419998  167.720001  167.979996   \n",
       "2745833    ZTS 2024-06-26  167.210007  171.509995  166.449997  170.899994   \n",
       "2745834    ZTS 2024-06-27  174.490005  181.660004  174.259995  176.460007   \n",
       "\n",
       "          Adj Close   Volume       sector                       subsector  \\\n",
       "0         43.613007  4674353  Health Care  Life Sciences Tools & Services   \n",
       "1         40.281460  4765083  Health Care  Life Sciences Tools & Services   \n",
       "2         37.782795  5758642  Health Care  Life Sciences Tools & Services   \n",
       "3         36.344170  2534434  Health Care  Life Sciences Tools & Services   \n",
       "4         39.372868  2819626  Health Care  Life Sciences Tools & Services   \n",
       "...             ...      ...          ...                             ...   \n",
       "2745830  171.089996  4899700  Health Care                 Pharmaceuticals   \n",
       "2745831  171.839996  1885900  Health Care                 Pharmaceuticals   \n",
       "2745832  167.979996  2293400  Health Care                 Pharmaceuticals   \n",
       "2745833  170.899994  2053800  Health Care                 Pharmaceuticals   \n",
       "2745834  176.460007  4164700  Health Care                 Pharmaceuticals   \n",
       "\n",
       "         year  \n",
       "0        2000  \n",
       "1        2000  \n",
       "2        2000  \n",
       "3        2000  \n",
       "4        2000  \n",
       "...       ...  \n",
       "2745830  2024  \n",
       "2745831  2024  \n",
       "2745832  2024  \n",
       "2745833  2024  \n",
       "2745834  2024  \n",
       "\n",
       "[2745835 rows x 11 columns]"
      ]
     },
     "execution_count": 3,
     "metadata": {},
     "output_type": "execute_result"
    }
   ],
   "source": [
    "import os\n",
    "from glob import glob\n",
    "\n",
    "# Write your code below.\n",
    "ft_dir = os.getenv(\"PRICE_DATA\")\n",
    "ft_glob = glob(ft_dir+'*/*/*.parquet')\n",
    "df = dd.read_parquet(ft_glob).compute().reset_index()\n",
    "df\n"
   ]
  },
  {
   "cell_type": "code",
   "execution_count": 7,
   "metadata": {},
   "outputs": [
    {
     "data": {
      "text/plain": [
       "pandas.core.frame.DataFrame"
      ]
     },
     "execution_count": 7,
     "metadata": {},
     "output_type": "execute_result"
    }
   ],
   "source": [
    "type(df)"
   ]
  },
  {
   "cell_type": "markdown",
   "metadata": {},
   "source": [
    "For each ticker and using Dask, do the following:\n",
    "\n",
    "+ Add lags for variables Close and Adj_Close.\n",
    "+ Add returns based on Adjusted Close:\n",
    "    \n",
    "    - `returns`: (Adj Close / Adj Close_lag) - 1\n",
    "\n",
    "+ Add the following range: \n",
    "\n",
    "    - `hi_lo_range`: this is the day's High minus Low.\n",
    "\n",
    "+ Assign the result to `dd_feat`.\n",
    "\n",
    "(4 pt)"
   ]
  },
  {
   "cell_type": "code",
   "execution_count": 8,
   "metadata": {},
   "outputs": [
    {
     "name": "stderr",
     "output_type": "stream",
     "text": [
      "C:\\Users\\James\\AppData\\Local\\Temp\\ipykernel_8772\\3901578981.py:5: UserWarning: `meta` is not specified, inferred from partial data. Please provide `meta` if the result is unexpected.\n",
      "  Before: .apply(func)\n",
      "  After:  .apply(func, meta={'x': 'f8', 'y': 'f8'}) for dataframe result\n",
      "  or:     .apply(func, meta=('x', 'f8'))            for series result\n",
      "  dd_feat = dask_df.groupby('ticker', group_keys=False).apply(\n"
     ]
    }
   ],
   "source": [
    "# Write your code below.\n",
    "dask_df = dd.from_pandas(df, npartitions=4)\n",
    "\n",
    "dd_feat = dask_df.groupby('ticker', group_keys=False).apply(\n",
    "    lambda x: x.assign(\n",
    "        Close_lag_1=x['Close'].shift(1),\n",
    "        Adj_Close_lag=x['Adj Close'].shift(1)\n",
    "    ).assign(\n",
    "        returns=lambda x: x['Adj Close']/x['Adj_Close_lag'] - 1,\n",
    "        hi_lo_range=lambda x: x['High'] - x['Low']\n",
    "    )\n",
    ")"
   ]
  },
  {
   "cell_type": "code",
   "execution_count": 9,
   "metadata": {},
   "outputs": [
    {
     "data": {
      "text/plain": [
       "dask_expr._collection.DataFrame"
      ]
     },
     "execution_count": 9,
     "metadata": {},
     "output_type": "execute_result"
    }
   ],
   "source": [
    "type(dd_feat)"
   ]
  },
  {
   "cell_type": "markdown",
   "metadata": {},
   "source": [
    "+ Convert the Dask data frame to a pandas data frame. \n",
    "+ Add a rolling average return calculation with a window of 10 days.\n",
    "+ *Tip*: Consider using `.rolling(10).mean()`.\n",
    "\n",
    "(3 pt)"
   ]
  },
  {
   "cell_type": "code",
   "execution_count": 12,
   "metadata": {},
   "outputs": [
    {
     "name": "stdout",
     "output_type": "stream",
     "text": [
      "       ticker       Date        Open        High         Low       Close  \\\n",
      "686459    CVX 2018-05-22  129.089996  130.389999  128.100006  128.229996   \n",
      "686460    CVX 2018-05-23  127.089996  128.789993  126.550003  128.699997   \n",
      "686461    CVX 2018-05-24  127.400002  127.400002  125.849998  126.610001   \n",
      "686462    CVX 2018-05-25  124.540001  124.760002  121.220001  122.190002   \n",
      "686463    CVX 2018-05-29  121.099998  122.430000  120.059998  121.389999   \n",
      "\n",
      "        Adj Close   Volume  sector             subsector  year  Close_lag_1  \\\n",
      "686459  98.859962  5444200  Energy  Integrated Oil & Gas  2018          NaN   \n",
      "686460  99.222305  6017200  Energy  Integrated Oil & Gas  2018   128.229996   \n",
      "686461  97.611000  5906200  Energy  Integrated Oil & Gas  2018   128.699997   \n",
      "686462  94.203377  8936600  Energy  Integrated Oil & Gas  2018   126.610001   \n",
      "686463  93.586609  7385700  Energy  Integrated Oil & Gas  2018   122.190002   \n",
      "\n",
      "        Adj_Close_lag   returns  hi_lo_range  rolling_avg_return  \n",
      "686459            NaN       NaN     2.289993                 NaN  \n",
      "686460      98.859962  0.003665     2.239990                 NaN  \n",
      "686461      99.222305 -0.016239     1.550003                 NaN  \n",
      "686462      97.611000 -0.034910     3.540001                 NaN  \n",
      "686463      94.203377 -0.006547     2.370003                 NaN  \n"
     ]
    }
   ],
   "source": [
    "# Write your code below.\n",
    "import pandas as pd\n",
    "\n",
    "dd_feat_pd = dd_feat.compute()\n",
    "dd_feat_pd['rolling_avg_return'] = dd_feat_pd.groupby('ticker')['returns'].rolling(10).mean().reset_index(level=0, drop=True)\n",
    "print(dd_feat_pd.head())\n"
   ]
  },
  {
   "cell_type": "markdown",
   "metadata": {},
   "source": [
    "Please comment:\n",
    "\n",
    "+ Was it necessary to convert to pandas to calculate the moving average return?<br>\n",
    "\n",
    "    *No, it is not necessary in my opinion, I guess I don't understand it enough just yet, I even think using dask was not necesary in the 2nd step*<br>\n",
    "\n",
    "+ Would it have been better to do it in Dask? Why?<br>\n",
    "\n",
    "    *Based on lecture content, the answer is yes, dask has the capability to handle large datasets efficiently due to its binary nature.*\n",
    "\n",
    "(1 pt)"
   ]
  },
  {
   "cell_type": "markdown",
   "metadata": {},
   "source": [
    "## Criteria\n",
    "\n",
    "|Criteria|Complete|Incomplete|\n",
    "|---------------------|----|----|\n",
    "|Calculations         |Calculations were done correctly.|Calculations were not done correctly.|\n",
    "|Explanation of answer|Answer was concise and explained the learner's reasoning in depth.|Answer was not concise and did not explained the learner's reasoning in depth.|"
   ]
  },
  {
   "cell_type": "markdown",
   "metadata": {},
   "source": [
    "## Submission Information\n",
    "\n",
    "🚨 **Please review our [Assignment Submission Guide](https://github.com/UofT-DSI/onboarding/blob/main/onboarding_documents/submissions.md)** 🚨 for detailed instructions on how to format, branch, and submit your work. Following these guidelines is crucial for your submissions to be evaluated correctly.\n",
    "\n",
    "### Submission Parameters:\n",
    "* Submission Due Date: `HH:MM AM/PM - DD/MM/YYYY`\n",
    "* The branch name for your repo should be: `assignment-1`\n",
    "* What to submit for this assignment:\n",
    "    * This Jupyter Notebook (assignment_1.ipynb) should be populated and should be the only change in your pull request.\n",
    "* What the pull request link should look like for this assignment: `https://github.com/<your_github_username>/production/pull/<pr_id>`\n",
    "    * Open a private window in your browser. Copy and paste the link to your pull request into the address bar. Make sure you can see your pull request properly. This helps the technical facilitator and learning support staff review your submission easily.\n",
    "\n",
    "Checklist:\n",
    "- [ ] Created a branch with the correct naming convention.\n",
    "- [ ] Ensured that the repository is public.\n",
    "- [ ] Reviewed the PR description guidelines and adhered to them.\n",
    "- [ ] Verify that the link is accessible in a private browser window.\n",
    "\n",
    "If you encounter any difficulties or have questions, please don't hesitate to reach out to our team via our Slack at `#cohort-3-help`. Our Technical Facilitators and Learning Support staff are here to help you navigate any challenges."
   ]
  }
 ],
 "metadata": {
  "kernelspec": {
   "display_name": "env",
   "language": "python",
   "name": "python3"
  },
  "language_info": {
   "codemirror_mode": {
    "name": "ipython",
    "version": 3
   },
   "file_extension": ".py",
   "mimetype": "text/x-python",
   "name": "python",
   "nbconvert_exporter": "python",
   "pygments_lexer": "ipython3",
   "version": "3.9.19"
  }
 },
 "nbformat": 4,
 "nbformat_minor": 2
}
